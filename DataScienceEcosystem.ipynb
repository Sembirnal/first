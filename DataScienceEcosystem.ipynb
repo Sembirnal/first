{
 "cells": [
  {
   "cell_type": "markdown",
   "id": "fb15bd95-d5f9-4009-b735-ad4b3bafd0fa",
   "metadata": {},
   "source": [
    "# Data Science Tools and Ecosystem"
   ]
  },
  {
   "cell_type": "markdown",
   "id": "84a21993-6754-4abc-9e4f-f63138ac0440",
   "metadata": {},
   "source": [
    "In this notebook, Data Science Tools and Ecosystem are summarized"
   ]
  },
  {
   "cell_type": "markdown",
   "id": "02e2fba6-4bd7-4dd8-8052-0043883f268c",
   "metadata": {},
   "source": [
    "**Objectives:**"
   ]
  },
  {
   "cell_type": "markdown",
   "id": "09269038-c32d-48df-bc48-b2f3cf21071c",
   "metadata": {},
   "source": [
    "- List popular data language\n",
    "- List commonly used libraries\n",
    "- List data science tools"
   ]
  },
  {
   "cell_type": "markdown",
   "id": "ee0fd050-c109-4996-9bd2-d257c6a4b05b",
   "metadata": {},
   "source": [
    "Some of the popular languages that Data Scientists use are:"
   ]
  },
  {
   "cell_type": "markdown",
   "id": "70f89d92-994a-422f-b52a-5d1b1872a487",
   "metadata": {},
   "source": [
    "- Python\n",
    "- R\n",
    "- Scala"
   ]
  },
  {
   "cell_type": "markdown",
   "id": "7c5febc3-cd8f-4326-b3d6-4988c8d023ac",
   "metadata": {},
   "source": [
    "Some of the commonly used libraries used by Data Scientists include:"
   ]
  },
  {
   "cell_type": "markdown",
   "id": "bac21d35-ae38-4663-b668-885e78aec213",
   "metadata": {},
   "source": [
    "- Numpys\n",
    "- Pandas\n",
    "- Matplotlib"
   ]
  },
  {
   "cell_type": "markdown",
   "id": "fca38301-c479-41db-bae5-734602f507a5",
   "metadata": {},
   "source": [
    "| Data Science Tools | \n",
    "|---------|\n",
    "|  Git  |  \n",
    "|  Github  |\n",
    "|  NodeJS  |"
   ]
  },
  {
   "cell_type": "markdown",
   "id": "03b5d184-01a8-400c-9125-4513bc8c605f",
   "metadata": {},
   "source": [
    "### Below are a few examples of evaluating arithmetic expressions in Python"
   ]
  },
  {
   "cell_type": "markdown",
   "id": "775e83d7-a004-40f8-8a44-f03a332fb317",
   "metadata": {},
   "source": [
    "This a simple arithmetic expression to mutiply then add integers"
   ]
  },
  {
   "cell_type": "code",
   "execution_count": 4,
   "id": "fec6ed1e-07b0-4a5e-a65a-f1f89cf44484",
   "metadata": {},
   "outputs": [
    {
     "data": {
      "text/plain": [
       "17"
      ]
     },
     "execution_count": 4,
     "metadata": {},
     "output_type": "execute_result"
    }
   ],
   "source": [
    "(3*4)+5"
   ]
  },
  {
   "cell_type": "markdown",
   "id": "d5611489-3def-49dd-8932-5526664f17f5",
   "metadata": {},
   "source": [
    "This will convert 200 minutes to hours by diving by 60"
   ]
  },
  {
   "cell_type": "code",
   "execution_count": 5,
   "id": "65d1bc95-7f77-480f-a062-279fef0cc561",
   "metadata": {},
   "outputs": [
    {
     "data": {
      "text/plain": [
       "3.3333333333333335"
      ]
     },
     "execution_count": 5,
     "metadata": {},
     "output_type": "execute_result"
    }
   ],
   "source": [
    "200/60"
   ]
  },
  {
   "cell_type": "markdown",
   "id": "4c358ad7-56e3-4da9-9e8e-88d7ed849272",
   "metadata": {},
   "source": [
    "## Author: Janchivsembe Baldandorj"
   ]
  },
  {
   "cell_type": "code",
   "execution_count": null,
   "id": "e1239034-0d4c-45ed-af8c-a09140b470ff",
   "metadata": {},
   "outputs": [],
   "source": []
  }
 ],
 "metadata": {
  "kernelspec": {
   "display_name": "Python 3 (ipykernel)",
   "language": "python",
   "name": "python3"
  },
  "language_info": {
   "codemirror_mode": {
    "name": "ipython",
    "version": 3
   },
   "file_extension": ".py",
   "mimetype": "text/x-python",
   "name": "python",
   "nbconvert_exporter": "python",
   "pygments_lexer": "ipython3",
   "version": "3.11.9"
  }
 },
 "nbformat": 4,
 "nbformat_minor": 5
}
